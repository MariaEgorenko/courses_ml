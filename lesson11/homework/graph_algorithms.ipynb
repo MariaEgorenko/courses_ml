{
 "cells": [
  {
   "cell_type": "markdown",
   "id": "4677083d",
   "metadata": {},
   "source": [
    "#### Импорты"
   ]
  },
  {
   "cell_type": "code",
   "execution_count": 1,
   "id": "11ff054e",
   "metadata": {},
   "outputs": [],
   "source": [
    "from collections import deque\n",
    "from typing import Dict, List, Set, Optional, Any, Tuple, Union\n",
    "\n",
    "import heapq\n",
    "import numpy as np"
   ]
  },
  {
   "cell_type": "markdown",
   "id": "5556f8d1",
   "metadata": {},
   "source": [
    "#### Поиск в ширину"
   ]
  },
  {
   "cell_type": "markdown",
   "id": "16859884",
   "metadata": {},
   "source": [
    "Поиск в ширину (BFS — Breadth-First Search) - Позволяет найти кратчайшие пути из одной вершины невзвешенного (ориентированного или неориентированного) графа до всех остальных вершин. Под кратчайшим путем подразумевается путь, содержащий наименьшее число ребер.\n",
    "\n",
    "Принцип алгоритма:\n",
    "1. Начинаем с заданной стартовой вершины;\n",
    "2. Помещаем её в очередь и помечаем как посещённую;\n",
    "3. Пока очередь не пуста:\n",
    "   - Извлекаем вершину из начала очереди;\n",
    "   - Посещаем всех её непосещённых соседей, добавляем их в очередь и помечаем как посещённых;\n",
    "4. Повторяем, пока не обойдём весь граф или не найдём целевую вершину\n",
    "\n",
    "Применение:\n",
    "- Социальные сети: поиск \"друзей друзей\", рекомендации;\n",
    "- Поиск по уровням в иерархической структуре (например, файловая система);\n",
    "- Алгоритм обхода в играх (например, поиск пути в лабиринте).\n",
    "\n",
    "Реализация:"
   ]
  },
  {
   "cell_type": "code",
   "execution_count": 2,
   "id": "3395fee4",
   "metadata": {},
   "outputs": [],
   "source": [
    "def bfs(\n",
    "        graph: Dict[Any, List[Any]],\n",
    "        start: Any,\n",
    "        goal: Any\n",
    "    ) -> Optional[List[Any]]:\n",
    "    \"\"\"\n",
    "    Выполняет поиск в ширину от start до goal.\n",
    "\n",
    "    :param (Dict[Any, List[Any]]) graph: словарь, представляющий граф.\n",
    "        Ключи - вершины графа, значения - списки смежных вершиин.\n",
    "    :param Any start: Начальная вершина для поиска.\n",
    "    :param Any goal: Целевая вершиина, которую необходимо найти.\n",
    "    :return Optional[List[Any]]: Список вершин представляющий кратчайший путь\n",
    "        от start до goal включительно. Возвращает None, если путь\n",
    "        не существует.\n",
    "    \"\"\"\n",
    "    if start == goal:\n",
    "        return [start]\n",
    "    \n",
    "    visited = set()\n",
    "    queue = deque()\n",
    "    queue.append((start, [start]))\n",
    "    visited.add(start)\n",
    "\n",
    "    while queue:\n",
    "        current, path = queue.popleft()\n",
    "\n",
    "        for neighbor in graph.get(current, []):\n",
    "            if neighbor == goal:\n",
    "                return path + [neighbor]\n",
    "            if neighbor not in visited:\n",
    "                visited.add(neighbor)\n",
    "                queue.append((neighbor, path + [neighbor]))\n",
    "\n",
    "    return None"
   ]
  },
  {
   "cell_type": "markdown",
   "id": "0712ca52",
   "metadata": {},
   "source": [
    "Пример использования поиска в ширину:"
   ]
  },
  {
   "cell_type": "code",
   "execution_count": 3,
   "id": "ad6dfa39",
   "metadata": {},
   "outputs": [
    {
     "name": "stdout",
     "output_type": "stream",
     "text": [
      "Путь: ['A', 'C', 'F']\n"
     ]
    }
   ],
   "source": [
    "graph = {\n",
    "    'A': ['B', 'C'],\n",
    "    'B': ['A', 'D', 'E'],\n",
    "    'C': ['A', 'F'],\n",
    "    'D': ['B'],\n",
    "    'E': ['B', 'F'],\n",
    "    'F': ['C', 'E']\n",
    "}\n",
    "\n",
    "path = bfs(graph, 'A', 'F')\n",
    "print(\"Путь:\", path)"
   ]
  },
  {
   "cell_type": "markdown",
   "id": "fd6449a9",
   "metadata": {},
   "source": [
    "#### Поиск в глубину"
   ]
  },
  {
   "cell_type": "markdown",
   "id": "506d6fb5",
   "metadata": {},
   "source": [
    "Поиск в глубину (DFS — Depth-First Search) — это алгоритм обхода или поиска в графе (или дереве), при котором мы сначала \"погружаемся\" как можно глубже в одну ветвь, прежде чем вернуться и исследовать другие.\n",
    "\n",
    "Принцип алгритма:\n",
    "1. Начинаем с некоторой стартовой вершины (например, A);\n",
    "2. Помечаем её как посещённую (чтобы не заходить дважды);\n",
    "3. Рекурсивно посещаем всех непосещённых соседей этой вершины — по одному, углубляясь в каждого;\n",
    "4. Когда у текущей вершины нет непосещённых соседей, возвращаемся к предыдущей вершине;\n",
    "5. Повторяем, пока все достижимые вершины не будут посещены.\n",
    "\n",
    "Применение:\n",
    "- Топологическая сортировка (для планирования задач с зависимостями);\n",
    "- Обнаружение циклов в графе (например, при проверке зависимостей в коде или базах данных);\n",
    "- Решение головоломок (судоку, лабиринты).\n",
    "\n",
    "Есть несколько основных способов реализации: рекурсивный и итеративный. Приведу пример рекурсивной реализации:\n",
    "\n"
   ]
  },
  {
   "cell_type": "code",
   "execution_count": 4,
   "id": "db01f74c",
   "metadata": {},
   "outputs": [],
   "source": [
    "def dfs_recursive(\n",
    "        graph: Dict[Any, List[Any]],\n",
    "        node: Any,\n",
    "        visited: Optional[Set[Any]] = None\n",
    "    ) -> List[Any]:\n",
    "    \"\"\"\n",
    "    Выполняет рекурсивный обход графа в глубину (DFS) от заданной вершины.\n",
    "\n",
    "    :param Dict[Any, List[Any]] graph: Словарь, представляющий граф.\n",
    "        Ключи — вершины, значения — списки смежных вершин.\n",
    "    :param Any node: Начальная вершина для обхода.\n",
    "    :param Optional[Set[Any]] visited: Множество уже посещённых вершин.\n",
    "        Используется для предотвращения зацикливания. По умолчанию None,\n",
    "        что означает начало нового обхода.\n",
    "    :return List[Any]: Список вершин в порядке их посещения при DFS-обходе.\n",
    "        Порядок зависит от порядка соседей в списке graph[node].\n",
    "    \"\"\"\n",
    "    if visited is None:\n",
    "        visited = set()\n",
    "\n",
    "    visited.add(node)\n",
    "    traversal_order = [node]\n",
    "\n",
    "    for neighbor in graph.get(node, []):\n",
    "        if neighbor not in visited:\n",
    "            traversal_order.extend(dfs_recursive(graph, neighbor, visited))\n",
    "\n",
    "    return traversal_order"
   ]
  },
  {
   "cell_type": "markdown",
   "id": "0d55a762",
   "metadata": {},
   "source": [
    "Пример использование поиска в глубину:"
   ]
  },
  {
   "cell_type": "code",
   "execution_count": 5,
   "id": "0e5363db",
   "metadata": {},
   "outputs": [
    {
     "data": {
      "text/plain": [
       "['A', 'B', 'D', 'E', 'F', 'C']"
      ]
     },
     "execution_count": 5,
     "metadata": {},
     "output_type": "execute_result"
    }
   ],
   "source": [
    "graph = {\n",
    "    'A': ['B', 'C'],\n",
    "    'B': ['A', 'D', 'E'],\n",
    "    'C': ['A', 'F'],\n",
    "    'D': ['B'],\n",
    "    'E': ['B', 'F'],\n",
    "    'F': ['C', 'E']\n",
    "}\n",
    "\n",
    "dfs_recursive(graph, 'A')"
   ]
  },
  {
   "cell_type": "markdown",
   "id": "55eb43ef",
   "metadata": {},
   "source": [
    "#### Алгоритм Дейкстры"
   ]
  },
  {
   "cell_type": "markdown",
   "id": "90ef4158",
   "metadata": {},
   "source": [
    "Алгоритм Дейкстры находит кратчайшие пути от одной заданной вершины (источника) до всех остальных вершин во взвешенном графе с неотрицательными весами рёбер.\n",
    "\n",
    "Принцип алгоритма:\n",
    "1. Начинаем с исходной вершины;\n",
    "2. Поддерживаем расстояния до всех вершин (изначально бесконечность, кроме источника — 0);\n",
    "3. На каждом шаге выбираем необработанную вершину с наименьшим текущим расстоянием;\n",
    "4. Обновляем расстояния до её соседей: если через текущую вершину путь короче — обновляем;\n",
    "5. Повторяем, пока не обработаем все вершины.\n",
    "\n",
    "Применение:\n",
    "- Навигационные системы (Google Maps, Яндекс.Карты);\n",
    "- Маршрутизация в сетях (IP-маршрутизация);\n",
    "- Логистика и доставка (оптимизация маршрутов доставки).\n",
    "\n",
    "Реализация алгоритма:"
   ]
  },
  {
   "cell_type": "code",
   "execution_count": 6,
   "id": "87ffa98a",
   "metadata": {},
   "outputs": [],
   "source": [
    "def dijkstra(\n",
    "        graph: Dict[Any, List[Tuple[Any, Union[int, float]]]],\n",
    "        start: Any\n",
    "    ) -> Dict[Any, Union[int, float]]:\n",
    "    \"\"\"\n",
    "    Реализует алгоритм Дейкстры для поиска кратчайших расстояний от начальной вершины\n",
    "    до всех остальных вершин во взвешенном ориентированном или неориентированном графе\n",
    "    с неотрицательными весами рёбер.\n",
    "\n",
    "    :param Dict[Any, List[Tuple[Any, Union[int, float]]]] graph :\n",
    "        Словарь, представляющий взвешенный граф. должен быть представлен в виде:\n",
    "        - ключи — вершины графа,\n",
    "        - значения — списки кортежей вида (соседняя_вершина, вес_ребра).\n",
    "    :param Any start: Начальная вершина, от которой вычисляются кратчайшие расстояния.\n",
    "    :return Dict[Any, Union[int, float]]: Словарь, где ключи — вершины\n",
    "        графа, а значения — кратчайшие расстояния от start до соответствующей вершины. \n",
    "        Если вершина недостижима, её расстояние будет float('inf').\n",
    "    \"\"\"\n",
    "    distance = {vertex: float('inf') for vertex in graph}\n",
    "    distance[start] = 0\n",
    "    priority_queue = [(0, start)]  # (расстояние, вершина)\n",
    "\n",
    "    while priority_queue:\n",
    "        current_distance, current_vertex = heapq.heappop(priority_queue)\n",
    "\n",
    "        # Если найден более короткий путь, пропускаем\n",
    "        if current_distance > distance[current_vertex]:\n",
    "            continue\n",
    "\n",
    "        for neighbor, weight in graph[current_vertex]:\n",
    "            distance_to_neighbor = current_distance + weight\n",
    "\n",
    "            if distance_to_neighbor < distance[neighbor]:\n",
    "                distance[neighbor] = distance_to_neighbor\n",
    "                heapq.heappush(priority_queue, (distance_to_neighbor, neighbor))\n",
    "\n",
    "    return distance"
   ]
  },
  {
   "cell_type": "markdown",
   "id": "91bd358f",
   "metadata": {},
   "source": [
    "Пример использования:"
   ]
  },
  {
   "cell_type": "code",
   "execution_count": 7,
   "id": "4dbcacc1",
   "metadata": {},
   "outputs": [
    {
     "data": {
      "text/plain": [
       "{'A': 0, 'B': 1, 'C': 3, 'D': 4}"
      ]
     },
     "execution_count": 7,
     "metadata": {},
     "output_type": "execute_result"
    }
   ],
   "source": [
    "graph = {\n",
    "    'A': [('B', 1), ('C', 4)],\n",
    "    'B': [('C', 2), ('D', 5)],\n",
    "    'C': [('D', 1)],\n",
    "    'D': []\n",
    "}\n",
    "\n",
    "distances = dijkstra(graph, 'A')\n",
    "distances"
   ]
  },
  {
   "cell_type": "markdown",
   "id": "9745aa43",
   "metadata": {},
   "source": [
    "#### Алгоритм Флойда–Уоршелла"
   ]
  },
  {
   "cell_type": "markdown",
   "id": "7d52d30d",
   "metadata": {},
   "source": [
    "Подходит для поиска кратчайших путей между всеми парами вершин. Он работает на основе матрицы расстояний, которая представляет собой квадратную таблицу, где элемент на пересечении строки *i* и столбца *j* показывает текущее минимальное расстояние от вершины *i* до вершины *j*. Постепенно обновляя значения в этой таблице, алгоритм находит минимальные пути между всеми парами вершин.\n",
    "\n",
    "При этом алгоритм способен обрабатывать графы с отрицательными весами рёбер, хотя его сложность $O(V^3)$ делает его менее эффективным для очень больших сетей.\n",
    "\n",
    "Принцип:\n",
    "1. Инициализация:\n",
    "   - Создаём матрицу расстояний между всеми вершинами;\n",
    "2. Шаги алгоритма:\n",
    "   - Постепенно улучшаем оценки расстояний, рассматривая все возможные промежуточные вершины\n",
    "\n",
    "Применение:\n",
    "- Планирование маршрутов в транспортных сетях;\n",
    "- Анализ социальных сетей (расстояния между пользователями);\n",
    "- Игры с сетевой картой (например, стратегии в реальном времени).\n",
    "\n",
    "Реализация:"
   ]
  },
  {
   "cell_type": "code",
   "execution_count": 8,
   "id": "f65ed9d5",
   "metadata": {},
   "outputs": [],
   "source": [
    "def floyd_warshall(graph: List[List[Union[int, float]]]) -> np.ndarray:\n",
    "    \"\"\"\n",
    "    Находит кратчайшие расстояния между всеми парами вершин во взвешенном графе\n",
    "    с помощью алгоритма Флойда–Уоршелла.\n",
    "\n",
    "    :param List[List[Union[int, float]]] graph: Квадратная матрица смежности\n",
    "        размером n x n, представляющая взвешенный граф. Элементы могут быть\n",
    "        числами (int или float) или float('inf') для обозначения недостижимости.\n",
    "    :return np.ndarray: Двумерный массив NumPy размером n x n, содержащий кратчайшие\n",
    "        расстояния между всеми парами вершин. Элемент [i][j] — длина\n",
    "        кратчайшего пути от вершины i к вершине j.\n",
    "    \"\"\"\n",
    "    num_vertices = len(graph)\n",
    "    dist = np.array(graph)\n",
    "\n",
    "    for k in range(num_vertices):\n",
    "        for i in range(num_vertices):\n",
    "            for j in range(num_vertices):\n",
    "                if dist[i][k] + dist[k][j] < dist[i][j]:\n",
    "                    dist[i][j] = dist[i][k] + dist[k][j]\n",
    "\n",
    "    return dist"
   ]
  },
  {
   "cell_type": "markdown",
   "id": "66fb5a49",
   "metadata": {},
   "source": [
    "Пример использования:"
   ]
  },
  {
   "cell_type": "code",
   "execution_count": 9,
   "id": "a6e4296b",
   "metadata": {},
   "outputs": [
    {
     "data": {
      "text/plain": [
       "array([[0., 3., 7., 5.],\n",
       "       [2., 0., 6., 4.],\n",
       "       [3., 1., 0., 5.],\n",
       "       [5., 3., 2., 0.]])"
      ]
     },
     "execution_count": 9,
     "metadata": {},
     "output_type": "execute_result"
    }
   ],
   "source": [
    "graph = [\n",
    "    [0, 3, float('inf'), 5],\n",
    "    [2, 0, float('inf'), 4],\n",
    "    [float('inf'), 1, 0, float('inf')],\n",
    "    [float('inf'), float('inf'), 2, 0]\n",
    "]\n",
    "\n",
    "shortest_paths = floyd_warshall(graph)\n",
    "shortest_paths"
   ]
  },
  {
   "cell_type": "markdown",
   "id": "3d13337e",
   "metadata": {},
   "source": [
    "#### Алгоритм Беллмана — Форда"
   ]
  },
  {
   "cell_type": "markdown",
   "id": "cf400950",
   "metadata": {},
   "source": [
    "Позволяет находить кратчайшие пути от заданной вершины до всех остальных, даже если в графе присутствуют отрицательные веса рёбер. Однако алгоритм лучше применять для средних по размеру графов, поскольку его временная сложность составляет $O(VE)$, где:\n",
    "- $V$ - количество вершин в графе;\n",
    "- $E$ - количество ребер в графе.\n",
    "\n",
    "Принцип:\n",
    "\n",
    "Алгоритм последовательно релаксирует (обновляет) расстояния, проходя по всем рёбрам многократно.\n",
    "1. Инициализация:\n",
    "   - Устанавливаем начальную вершину с нулевым расстоянием;\n",
    "   - Остальные вершины получают бесконечное расстояние;\n",
    "   - Все вершины считаются необработанными;\n",
    "2. Шаги алгоритма:\n",
    "   - Повторяем процесс релаксации ребер $V−1$ раз, где $V$ — количество вершин;\n",
    "   - Проверяем на наличие отрицательных циклов.\n",
    "\n",
    "Применение:\n",
    "- Маршрутизация в компьютерных сетях;\n",
    "- Финансовые системы и арбитраж;\n",
    "- Планирование задач с временными ограничениями;\n",
    "\n",
    "Реализация:"
   ]
  },
  {
   "cell_type": "code",
   "execution_count": 10,
   "id": "96d791f7",
   "metadata": {},
   "outputs": [],
   "source": [
    "def bellman_ford(\n",
    "        graph: Dict[Any, List[Tuple[Any, Union[int, float]]]],\n",
    "        source: Any\n",
    "    ) -> Dict[Any, Union[int, float]]:\n",
    "    \"\"\"\n",
    "    Реализует алгоритм Беллмана–Форда для нахождения кратчайших расстояний \n",
    "    от заданной исходной вершины до всех остальных вершин во взвешенном графе.\n",
    "\n",
    "    :param Dict[Any, List[Tuple[Any, Union[int, float]]]] graph:\n",
    "        Словарь, описывающий взвешенный ориентированный или\n",
    "        неориентированный граф.\n",
    "    :param Any source: Исходная вершина, от которой вычисляются кратчайшие расстояния.\n",
    "    :return Dict[Any, Union[int, float]]: Словарь кратчайших расстояний от\n",
    "        вершины `source` до всех вершин графа. Недостижимые вершины имеют\n",
    "        значение float('inf').\n",
    "    \"\"\"\n",
    "    distance = {vertex: float('inf') for vertex in graph}\n",
    "    distance[source] = 0\n",
    "\n",
    "    for _ in range(len(graph) - 1):\n",
    "        for vertex in graph:\n",
    "            for neighbor, weight in graph[vertex]:\n",
    "                if distance[vertex] + weight < distance[neighbor]:\n",
    "                    distance[neighbor] = distance[vertex] + weight\n",
    "\n",
    "    # Проверка на отрицательные циклы\n",
    "    for vertex in graph:\n",
    "        for neighbor, weight in graph[vertex]:\n",
    "            if distance[vertex] + weight < distance[neighbor]:\n",
    "                raise ValueError(\"Граф содержит отрицательный цикл\")\n",
    "\n",
    "    return distance"
   ]
  },
  {
   "cell_type": "markdown",
   "id": "a8ca83a5",
   "metadata": {},
   "source": [
    "Пример использования:"
   ]
  },
  {
   "cell_type": "code",
   "execution_count": 11,
   "id": "5ead5798",
   "metadata": {},
   "outputs": [
    {
     "data": {
      "text/plain": [
       "{'A': 0, 'B': 4, 'C': 2, 'D': 5}"
      ]
     },
     "execution_count": 11,
     "metadata": {},
     "output_type": "execute_result"
    }
   ],
   "source": [
    "graph = {\n",
    "    'A': [('B', 4), ('C', 2)],\n",
    "    'B': [('C', -1), ('D', 2)],\n",
    "    'C': [('D', 3)],\n",
    "    'D': []\n",
    "}\n",
    "\n",
    "distances = bellman_ford(graph, 'A')\n",
    "distances"
   ]
  }
 ],
 "metadata": {
  "kernelspec": {
   "display_name": "venv",
   "language": "python",
   "name": "python3"
  },
  "language_info": {
   "codemirror_mode": {
    "name": "ipython",
    "version": 3
   },
   "file_extension": ".py",
   "mimetype": "text/x-python",
   "name": "python",
   "nbconvert_exporter": "python",
   "pygments_lexer": "ipython3",
   "version": "3.13.8"
  }
 },
 "nbformat": 4,
 "nbformat_minor": 5
}
