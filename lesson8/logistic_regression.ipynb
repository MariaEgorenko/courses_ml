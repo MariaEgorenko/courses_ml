{
 "cells": [
  {
   "cell_type": "code",
   "execution_count": 2,
   "id": "926c7269",
   "metadata": {},
   "outputs": [],
   "source": [
    "import pandas as pd\n",
    "import numpy as np\n",
    "\n",
    "from sklearn.linear_model import LogisticRegression"
   ]
  },
  {
   "cell_type": "code",
   "execution_count": 3,
   "id": "350df8bc",
   "metadata": {},
   "outputs": [
    {
     "data": {
      "text/html": [
       "<div>\n",
       "<style scoped>\n",
       "    .dataframe tbody tr th:only-of-type {\n",
       "        vertical-align: middle;\n",
       "    }\n",
       "\n",
       "    .dataframe tbody tr th {\n",
       "        vertical-align: top;\n",
       "    }\n",
       "\n",
       "    .dataframe thead th {\n",
       "        text-align: right;\n",
       "    }\n",
       "</style>\n",
       "<table border=\"1\" class=\"dataframe\">\n",
       "  <thead>\n",
       "    <tr style=\"text-align: right;\">\n",
       "      <th></th>\n",
       "      <th>PassengerId</th>\n",
       "      <th>Survived</th>\n",
       "      <th>Pclass</th>\n",
       "      <th>Name</th>\n",
       "      <th>Sex</th>\n",
       "      <th>Age</th>\n",
       "      <th>SibSp</th>\n",
       "      <th>Parch</th>\n",
       "      <th>Ticket</th>\n",
       "      <th>Fare</th>\n",
       "      <th>Cabin</th>\n",
       "      <th>Embarked</th>\n",
       "    </tr>\n",
       "  </thead>\n",
       "  <tbody>\n",
       "    <tr>\n",
       "      <th>0</th>\n",
       "      <td>1</td>\n",
       "      <td>0</td>\n",
       "      <td>3</td>\n",
       "      <td>Braund, Mr. Owen Harris</td>\n",
       "      <td>male</td>\n",
       "      <td>22.0</td>\n",
       "      <td>1</td>\n",
       "      <td>0</td>\n",
       "      <td>A/5 21171</td>\n",
       "      <td>7.2500</td>\n",
       "      <td>NaN</td>\n",
       "      <td>S</td>\n",
       "    </tr>\n",
       "    <tr>\n",
       "      <th>1</th>\n",
       "      <td>2</td>\n",
       "      <td>1</td>\n",
       "      <td>1</td>\n",
       "      <td>Cumings, Mrs. John Bradley (Florence Briggs Th...</td>\n",
       "      <td>female</td>\n",
       "      <td>38.0</td>\n",
       "      <td>1</td>\n",
       "      <td>0</td>\n",
       "      <td>PC 17599</td>\n",
       "      <td>71.2833</td>\n",
       "      <td>C85</td>\n",
       "      <td>C</td>\n",
       "    </tr>\n",
       "    <tr>\n",
       "      <th>2</th>\n",
       "      <td>3</td>\n",
       "      <td>1</td>\n",
       "      <td>3</td>\n",
       "      <td>Heikkinen, Miss. Laina</td>\n",
       "      <td>female</td>\n",
       "      <td>26.0</td>\n",
       "      <td>0</td>\n",
       "      <td>0</td>\n",
       "      <td>STON/O2. 3101282</td>\n",
       "      <td>7.9250</td>\n",
       "      <td>NaN</td>\n",
       "      <td>S</td>\n",
       "    </tr>\n",
       "    <tr>\n",
       "      <th>3</th>\n",
       "      <td>4</td>\n",
       "      <td>1</td>\n",
       "      <td>1</td>\n",
       "      <td>Futrelle, Mrs. Jacques Heath (Lily May Peel)</td>\n",
       "      <td>female</td>\n",
       "      <td>35.0</td>\n",
       "      <td>1</td>\n",
       "      <td>0</td>\n",
       "      <td>113803</td>\n",
       "      <td>53.1000</td>\n",
       "      <td>C123</td>\n",
       "      <td>S</td>\n",
       "    </tr>\n",
       "    <tr>\n",
       "      <th>4</th>\n",
       "      <td>5</td>\n",
       "      <td>0</td>\n",
       "      <td>3</td>\n",
       "      <td>Allen, Mr. William Henry</td>\n",
       "      <td>male</td>\n",
       "      <td>35.0</td>\n",
       "      <td>0</td>\n",
       "      <td>0</td>\n",
       "      <td>373450</td>\n",
       "      <td>8.0500</td>\n",
       "      <td>NaN</td>\n",
       "      <td>S</td>\n",
       "    </tr>\n",
       "  </tbody>\n",
       "</table>\n",
       "</div>"
      ],
      "text/plain": [
       "   PassengerId  Survived  Pclass  \\\n",
       "0            1         0       3   \n",
       "1            2         1       1   \n",
       "2            3         1       3   \n",
       "3            4         1       1   \n",
       "4            5         0       3   \n",
       "\n",
       "                                                Name     Sex   Age  SibSp  \\\n",
       "0                            Braund, Mr. Owen Harris    male  22.0      1   \n",
       "1  Cumings, Mrs. John Bradley (Florence Briggs Th...  female  38.0      1   \n",
       "2                             Heikkinen, Miss. Laina  female  26.0      0   \n",
       "3       Futrelle, Mrs. Jacques Heath (Lily May Peel)  female  35.0      1   \n",
       "4                           Allen, Mr. William Henry    male  35.0      0   \n",
       "\n",
       "   Parch            Ticket     Fare Cabin Embarked  \n",
       "0      0         A/5 21171   7.2500   NaN        S  \n",
       "1      0          PC 17599  71.2833   C85        C  \n",
       "2      0  STON/O2. 3101282   7.9250   NaN        S  \n",
       "3      0            113803  53.1000  C123        S  \n",
       "4      0            373450   8.0500   NaN        S  "
      ]
     },
     "execution_count": 3,
     "metadata": {},
     "output_type": "execute_result"
    }
   ],
   "source": [
    "df = pd.read_csv('src/data_tms.csv')\n",
    "df.head()"
   ]
  },
  {
   "cell_type": "code",
   "execution_count": 64,
   "id": "ce5d86e6",
   "metadata": {},
   "outputs": [],
   "source": [
    "df = df.dropna(subset=['Age', 'Embarked'])\n",
    "df1 = df.drop(columns=['PassengerId', 'Survived', 'Name', 'Ticket', 'Fare', 'Cabin'])"
   ]
  },
  {
   "cell_type": "code",
   "execution_count": 63,
   "id": "66e55988",
   "metadata": {},
   "outputs": [],
   "source": [
    "df1.Sex = df.Sex.map({\n",
    "    'male': 1,\n",
    "    'female': 0\n",
    "})\n",
    "df1.Embarked = df.Embarked.map({\n",
    "    'S': 0,\n",
    "    'C': 1,\n",
    "    'Q': 2\n",
    "})"
   ]
  },
  {
   "cell_type": "code",
   "execution_count": 51,
   "id": "70c76d7e",
   "metadata": {},
   "outputs": [],
   "source": [
    "X = df1.to_numpy()\n",
    "y = df.Survived.to_numpy()"
   ]
  },
  {
   "cell_type": "code",
   "execution_count": 50,
   "id": "68e70bdc",
   "metadata": {},
   "outputs": [
    {
     "data": {
      "text/plain": [
       "0.8089887640449438"
      ]
     },
     "execution_count": 50,
     "metadata": {},
     "output_type": "execute_result"
    }
   ],
   "source": [
    "model = LogisticRegression()\n",
    "model.fit(X, y)\n",
    "\n",
    "model_y_sk = model.predict(X)\n",
    "\n",
    "model.score(X, y)"
   ]
  },
  {
   "cell_type": "code",
   "execution_count": null,
   "id": "0986bceb",
   "metadata": {},
   "outputs": [],
   "source": [
    "def sigmoid(z):\n",
    "    # Ограничиваем z, чтобы избежать переполнения\n",
    "    z = np.clip(z, -500, 500)\n",
    "    return 1 / (1 + np.exp(-z))\n",
    "\n",
    "def logistic_regression_np(\n",
    "        X: np.ndarray,\n",
    "        y: np.ndarray\n",
    "    ) -> tuple[np.ndarray, np.ndarray, np.ndarray]:\n",
    "    \"\"\"\n",
    "    Обучает логистическую регрессию с использованием градиентного спуска.\n",
    "\n",
    "    :param X: Матрица признаков формы (m, n), где m — количество примеров,\n",
    "        n — количество признаков.\n",
    "    :param y: Вектор целевых значений формы (m,), содержащий 0 или 1.\n",
    "    :return: Кортеж из трёх элементов:\n",
    "        - weights: Вектор весов модели (включая свободный член) формы (n + 1,).\n",
    "        - X_mean: Вектор средних значений по каждому признаку,\n",
    "            использованный для нормализации.\n",
    "        - X_std: Вектор стандартных отклонений по каждому признаку,\n",
    "            использованный для нормализации.\n",
    "    \"\"\"\n",
    "    # Нормализация признаков\n",
    "    X_mean = np.mean(X, axis=0)\n",
    "    X_std = np.std(X, axis=0)\n",
    "    X_std[X_std == 0] = 1\n",
    "    X_normalized = (X - X_mean) / X_std\n",
    "    \n",
    "    # Добавление столбца единиц для свободного члена\n",
    "    m, n = X_normalized.shape\n",
    "    X_b = np.column_stack([np.ones(m), X_normalized])\n",
    "\n",
    "    learning_rate = 0.001\n",
    "    weights = np.random.randn(n + 1) * 0.01\n",
    "\n",
    "    for i in range(50000):\n",
    "        z = X_b @ weights\n",
    "        y_pred = sigmoid(z)\n",
    "        error = y_pred - y\n",
    "\n",
    "        gradient = (1 / m) * X_b.T @ error\n",
    "        weights = weights - learning_rate * gradient\n",
    "\n",
    "    return weights, X_mean, X_std\n",
    "\n",
    "\n",
    "def predict_logistic_np(X, weights, X_mean, X_std, threshold=0.5):\n",
    "    \"\"\"\n",
    "    Выполняет предсказание на новых данных с использованием обученной модели\n",
    "    логистической регрессии.\n",
    "\n",
    "    :param X: Матрица признаков для предсказания формы (m, n).\n",
    "    :param weights: Вектор весов модели (включая свободный член) формы (n + 1,).\n",
    "    :param X_mean: Вектор средних значений признаков, полученный при обучении.\n",
    "    :param X_std: Вектор стандартных отклонений признаков, полученный при обучении.\n",
    "    :param threshold: Порог для бинарной классификации (по умолчанию 0.5).\n",
    "    :return: Вектор предсказанных вероятностей или меток формы (m,).\n",
    "    \"\"\"\n",
    "    X_normalized = (X - X_mean) / X_std\n",
    "    m = X_normalized.shape[0]\n",
    "    X_b = np.column_stack([np.ones(m), X_normalized])\n",
    "    \n",
    "    z = X_b @ weights\n",
    "    probabilities = sigmoid(z)\n",
    "\n",
    "    return (probabilities >= threshold).astype(int)"
   ]
  },
  {
   "cell_type": "code",
   "execution_count": 65,
   "id": "5e473b6b",
   "metadata": {},
   "outputs": [],
   "source": [
    "weights, X_mean, X_std = logistic_regression_np(X, y)\n",
    "\n",
    "pred_y = predict_logistic_np(X, weights, X_mean, X_std)"
   ]
  },
  {
   "cell_type": "markdown",
   "id": "0cb79672",
   "metadata": {},
   "source": [
    "Точность предсказаний"
   ]
  },
  {
   "cell_type": "code",
   "execution_count": 54,
   "id": "e7fdfd92",
   "metadata": {},
   "outputs": [
    {
     "data": {
      "text/plain": [
       "np.float64(0.8019662921348315)"
      ]
     },
     "execution_count": 54,
     "metadata": {},
     "output_type": "execute_result"
    }
   ],
   "source": [
    "(y == pred_y).mean()"
   ]
  },
  {
   "cell_type": "code",
   "execution_count": 62,
   "id": "4fa339d6",
   "metadata": {},
   "outputs": [
    {
     "data": {
      "text/html": [
       "<div>\n",
       "<style scoped>\n",
       "    .dataframe tbody tr th:only-of-type {\n",
       "        vertical-align: middle;\n",
       "    }\n",
       "\n",
       "    .dataframe tbody tr th {\n",
       "        vertical-align: top;\n",
       "    }\n",
       "\n",
       "    .dataframe thead th {\n",
       "        text-align: right;\n",
       "    }\n",
       "</style>\n",
       "<table border=\"1\" class=\"dataframe\">\n",
       "  <thead>\n",
       "    <tr style=\"text-align: right;\">\n",
       "      <th></th>\n",
       "      <th>Pclass</th>\n",
       "      <th>Sex</th>\n",
       "      <th>Age</th>\n",
       "      <th>SibSp</th>\n",
       "      <th>Parch</th>\n",
       "      <th>Embarked</th>\n",
       "      <th>Survived</th>\n",
       "      <th>pred_y_sk</th>\n",
       "      <th>pred_y</th>\n",
       "    </tr>\n",
       "  </thead>\n",
       "  <tbody>\n",
       "    <tr>\n",
       "      <th>0</th>\n",
       "      <td>3</td>\n",
       "      <td>1</td>\n",
       "      <td>22.0</td>\n",
       "      <td>1</td>\n",
       "      <td>0</td>\n",
       "      <td>0</td>\n",
       "      <td>0</td>\n",
       "      <td>0</td>\n",
       "      <td>0</td>\n",
       "    </tr>\n",
       "    <tr>\n",
       "      <th>1</th>\n",
       "      <td>1</td>\n",
       "      <td>0</td>\n",
       "      <td>38.0</td>\n",
       "      <td>1</td>\n",
       "      <td>0</td>\n",
       "      <td>1</td>\n",
       "      <td>1</td>\n",
       "      <td>1</td>\n",
       "      <td>1</td>\n",
       "    </tr>\n",
       "    <tr>\n",
       "      <th>2</th>\n",
       "      <td>3</td>\n",
       "      <td>0</td>\n",
       "      <td>26.0</td>\n",
       "      <td>0</td>\n",
       "      <td>0</td>\n",
       "      <td>0</td>\n",
       "      <td>1</td>\n",
       "      <td>1</td>\n",
       "      <td>1</td>\n",
       "    </tr>\n",
       "    <tr>\n",
       "      <th>3</th>\n",
       "      <td>1</td>\n",
       "      <td>0</td>\n",
       "      <td>35.0</td>\n",
       "      <td>1</td>\n",
       "      <td>0</td>\n",
       "      <td>0</td>\n",
       "      <td>1</td>\n",
       "      <td>1</td>\n",
       "      <td>1</td>\n",
       "    </tr>\n",
       "    <tr>\n",
       "      <th>4</th>\n",
       "      <td>3</td>\n",
       "      <td>1</td>\n",
       "      <td>35.0</td>\n",
       "      <td>0</td>\n",
       "      <td>0</td>\n",
       "      <td>0</td>\n",
       "      <td>0</td>\n",
       "      <td>0</td>\n",
       "      <td>0</td>\n",
       "    </tr>\n",
       "  </tbody>\n",
       "</table>\n",
       "</div>"
      ],
      "text/plain": [
       "   Pclass  Sex   Age  SibSp  Parch  Embarked  Survived  pred_y_sk  pred_y\n",
       "0       3    1  22.0      1      0         0         0          0       0\n",
       "1       1    0  38.0      1      0         1         1          1       1\n",
       "2       3    0  26.0      0      0         0         1          1       1\n",
       "3       1    0  35.0      1      0         0         1          1       1\n",
       "4       3    1  35.0      0      0         0         0          0       0"
      ]
     },
     "execution_count": 62,
     "metadata": {},
     "output_type": "execute_result"
    }
   ],
   "source": [
    "df1['Survived'] = df.Survived\n",
    "df1['pred_y_sk'] = model_y_sk\n",
    "df1['pred_y'] = pred_y\n",
    "\n",
    "df1.head()"
   ]
  },
  {
   "cell_type": "markdown",
   "id": "2c4d4daf",
   "metadata": {},
   "source": [
    "Количество значений, которые не соответствуют действительному 'y' модели sklearn"
   ]
  },
  {
   "cell_type": "code",
   "execution_count": 60,
   "id": "c2d9f89c",
   "metadata": {},
   "outputs": [
    {
     "data": {
      "text/plain": [
       "np.int64(136)"
      ]
     },
     "execution_count": 60,
     "metadata": {},
     "output_type": "execute_result"
    }
   ],
   "source": [
    "(df1.pred_y_sk != df1.Survived).sum()"
   ]
  },
  {
   "cell_type": "markdown",
   "id": "eff2d113",
   "metadata": {},
   "source": [
    "Количество значений, который не соответствуют действительному 'y' у моей модели"
   ]
  },
  {
   "cell_type": "code",
   "execution_count": 61,
   "id": "26c3a9c7",
   "metadata": {},
   "outputs": [
    {
     "data": {
      "text/plain": [
       "np.int64(141)"
      ]
     },
     "execution_count": 61,
     "metadata": {},
     "output_type": "execute_result"
    }
   ],
   "source": [
    "(df1.pred_y != df1.Survived).sum()"
   ]
  }
 ],
 "metadata": {
  "kernelspec": {
   "display_name": "venv",
   "language": "python",
   "name": "python3"
  },
  "language_info": {
   "codemirror_mode": {
    "name": "ipython",
    "version": 3
   },
   "file_extension": ".py",
   "mimetype": "text/x-python",
   "name": "python",
   "nbconvert_exporter": "python",
   "pygments_lexer": "ipython3",
   "version": "3.13.7"
  }
 },
 "nbformat": 4,
 "nbformat_minor": 5
}
