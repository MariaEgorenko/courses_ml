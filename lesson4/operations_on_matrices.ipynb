{
 "cells": [
  {
   "cell_type": "markdown",
   "id": "8804c341",
   "metadata": {},
   "source": [
    "4.\n",
    "$$\n",
    "A =\n",
    "\\begin{pmatrix}\n",
    "    1 & -2 & 8 \\\\\n",
    "    7 & 5 & -2 \\\\\n",
    "    -2 & 3 & 0 \n",
    "\\end{pmatrix}\n",
    ", B =\n",
    "\\begin{pmatrix}\n",
    "    0 & 2 & 4 \\\\\n",
    "    1 & -3 & -2 \\\\\n",
    "    -2 & 1 & 3\n",
    "\\end{pmatrix}\n",
    ", C = \n",
    "\\begin{pmatrix}\n",
    "    0 & 3 \\\\\n",
    "    5 & -4 \\\\\n",
    "    7 & -1 \n",
    "\\end{pmatrix}\n",
    "$$"
   ]
  },
  {
   "cell_type": "code",
   "execution_count": 1,
   "id": "f6b4e732",
   "metadata": {},
   "outputs": [],
   "source": [
    "import numpy as np\n",
    "\n",
    "A = np.array([[1, -2, 8], [7, 5, -2], [-2, 3, 0]])\n",
    "B = np.array([[0, 2, 4], [1, -3, -2], [-2, 1, 3]])\n",
    "C = np.array([[0, 3], [5, -4], [7, -1]])"
   ]
  },
  {
   "cell_type": "code",
   "execution_count": 8,
   "id": "4af9e5f2",
   "metadata": {},
   "outputs": [
    {
     "data": {
      "text/plain": [
       "array([[ 1,  0, 12],\n",
       "       [ 8,  2, -4],\n",
       "       [-4,  4,  3]])"
      ]
     },
     "execution_count": 8,
     "metadata": {},
     "output_type": "execute_result"
    }
   ],
   "source": [
    "# 4.1\n",
    "A + B"
   ]
  },
  {
   "cell_type": "code",
   "execution_count": 7,
   "id": "8d7fce99",
   "metadata": {},
   "outputs": [
    {
     "data": {
      "text/plain": [
       "array([[-1,  4, -4],\n",
       "       [-6, -8,  0],\n",
       "       [ 0, -2,  3]])"
      ]
     },
     "execution_count": 7,
     "metadata": {},
     "output_type": "execute_result"
    }
   ],
   "source": [
    "# 4.2\n",
    "B - A"
   ]
  },
  {
   "cell_type": "code",
   "execution_count": 9,
   "id": "926f627a",
   "metadata": {},
   "outputs": [
    {
     "data": {
      "text/plain": [
       "array([[ 46,   3],\n",
       "       [ 11,   3],\n",
       "       [ 15, -18]])"
      ]
     },
     "execution_count": 9,
     "metadata": {},
     "output_type": "execute_result"
    }
   ],
   "source": [
    "# 4.3\n",
    "A @ C"
   ]
  },
  {
   "cell_type": "code",
   "execution_count": 10,
   "id": "330e700b",
   "metadata": {},
   "outputs": [
    {
     "data": {
      "text/plain": [
       "array([[ 304, -150],\n",
       "       [  69,   27],\n",
       "       [-163,   75]])"
      ]
     },
     "execution_count": 10,
     "metadata": {},
     "output_type": "execute_result"
    }
   ],
   "source": [
    "# 4.4\n",
    "A @ B @ C"
   ]
  },
  {
   "cell_type": "markdown",
   "id": "b59da015",
   "metadata": {},
   "source": [
    "5.\n",
    "$$\n",
    "A =\n",
    "\\begin{pmatrix}\n",
    "    9 & 2 & 4 \\\\\n",
    "    7 & 5 & -5 \\\\\n",
    "    6 & -2 & 3 \n",
    "\\end{pmatrix}\n",
    ", B =\n",
    "\\begin{pmatrix}\n",
    "    8 & 2 & 4 \\\\\n",
    "    0 & 1 & -3 \\\\\n",
    "    -2 & 1 & 6\n",
    "\\end{pmatrix}\n",
    ", C = \n",
    "\\begin{pmatrix}\n",
    "    -2 & 0 \\\\\n",
    "    4 & 8 \\\\\n",
    "    1 & -1 \n",
    "\\end{pmatrix}\n",
    "$$"
   ]
  },
  {
   "cell_type": "code",
   "execution_count": 11,
   "id": "7c719940",
   "metadata": {},
   "outputs": [],
   "source": [
    "A = np.array([[9, 2, 4], [7, 5, -5], [6, -2, 3]])\n",
    "B = np.array([[8, 2, 4], [0, 1, -3], [-2, 1, 6]])\n",
    "C = np.array([[-2, 0], [4, 8], [1, -1]])"
   ]
  },
  {
   "cell_type": "code",
   "execution_count": 12,
   "id": "77a69e52",
   "metadata": {},
   "outputs": [
    {
     "data": {
      "text/plain": [
       "array([[17,  4,  8],\n",
       "       [ 7,  6, -8],\n",
       "       [ 4, -1,  9]])"
      ]
     },
     "execution_count": 12,
     "metadata": {},
     "output_type": "execute_result"
    }
   ],
   "source": [
    "# 5.1\n",
    "A + B"
   ]
  },
  {
   "cell_type": "code",
   "execution_count": 13,
   "id": "b268a89a",
   "metadata": {},
   "outputs": [
    {
     "data": {
      "text/plain": [
       "array([[-1,  0,  0],\n",
       "       [-7, -4,  2],\n",
       "       [-8,  3,  3]])"
      ]
     },
     "execution_count": 13,
     "metadata": {},
     "output_type": "execute_result"
    }
   ],
   "source": [
    "# 5.2\n",
    "B - A"
   ]
  },
  {
   "cell_type": "code",
   "execution_count": 14,
   "id": "e38cb2d7",
   "metadata": {},
   "outputs": [
    {
     "data": {
      "text/plain": [
       "array([[ -6,  12],\n",
       "       [  1,  45],\n",
       "       [-17, -19]])"
      ]
     },
     "execution_count": 14,
     "metadata": {},
     "output_type": "execute_result"
    }
   ],
   "source": [
    "# 5.3\n",
    "A @ C"
   ]
  },
  {
   "cell_type": "code",
   "execution_count": 15,
   "id": "edd36d9d",
   "metadata": {},
   "outputs": [
    {
     "data": {
      "text/plain": [
       "array([[ 22, 138],\n",
       "       [-93, 129],\n",
       "       [ 16,  56]])"
      ]
     },
     "execution_count": 15,
     "metadata": {},
     "output_type": "execute_result"
    }
   ],
   "source": [
    "5.4\n",
    "A @ B @ C"
   ]
  }
 ],
 "metadata": {
  "kernelspec": {
   "display_name": "venv",
   "language": "python",
   "name": "python3"
  },
  "language_info": {
   "codemirror_mode": {
    "name": "ipython",
    "version": 3
   },
   "file_extension": ".py",
   "mimetype": "text/x-python",
   "name": "python",
   "nbconvert_exporter": "python",
   "pygments_lexer": "ipython3",
   "version": "3.13.7"
  }
 },
 "nbformat": 4,
 "nbformat_minor": 5
}
