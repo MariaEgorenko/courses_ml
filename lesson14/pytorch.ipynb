{
 "cells": [
  {
   "cell_type": "code",
   "execution_count": 85,
   "id": "c35aa3ea",
   "metadata": {},
   "outputs": [],
   "source": [
    "import pandas as pd\n",
    "\n",
    "import torch\n",
    "from sklearn.preprocessing import StandardScaler\n",
    "from sklearn.model_selection import train_test_split"
   ]
  },
  {
   "cell_type": "code",
   "execution_count": 101,
   "id": "bb1f1eae",
   "metadata": {},
   "outputs": [],
   "source": [
    "df_parisHousing = pd.read_csv('src/ParisHousing.csv')"
   ]
  },
  {
   "cell_type": "code",
   "execution_count": 102,
   "id": "63a4ae52",
   "metadata": {},
   "outputs": [],
   "source": [
    "df_parisHousing.insert(0, 'Bias', 1)"
   ]
  },
  {
   "cell_type": "code",
   "execution_count": 103,
   "id": "26bbfd8f",
   "metadata": {},
   "outputs": [],
   "source": [
    "X = df_parisHousing.drop(columns=['price'])\n",
    "y = df_parisHousing.price"
   ]
  },
  {
   "cell_type": "code",
   "execution_count": 104,
   "id": "d147017e",
   "metadata": {},
   "outputs": [],
   "source": [
    "X_train, X_test, y_train, y_test = train_test_split(X, y, test_size=0.2)"
   ]
  },
  {
   "cell_type": "code",
   "execution_count": 105,
   "id": "64f53b11",
   "metadata": {},
   "outputs": [],
   "source": [
    "scaler = StandardScaler()\n",
    "\n",
    "feature_columns = X.columns[1:]\n",
    "X_scaled_train = X_train.copy()\n",
    "X_scaled_train[feature_columns] = scaler.fit_transform(X_train[feature_columns])"
   ]
  },
  {
   "cell_type": "code",
   "execution_count": 106,
   "id": "ed022303",
   "metadata": {},
   "outputs": [],
   "source": [
    "X_scaled_test = X_test.copy()\n",
    "X_scaled_test[feature_columns] = scaler.transform(X_test[feature_columns])"
   ]
  },
  {
   "cell_type": "code",
   "execution_count": 107,
   "id": "3c581c87",
   "metadata": {},
   "outputs": [],
   "source": [
    "X_train_t = torch.FloatTensor(X_scaled_train.values)\n",
    "y_train_t = torch.FloatTensor(y_train.values)"
   ]
  },
  {
   "cell_type": "code",
   "execution_count": 114,
   "id": "6e303ef3",
   "metadata": {},
   "outputs": [],
   "source": [
    "X_test_t = torch.FloatTensor(X_scaled_test.values)\n",
    "y_test_t = torch.FloatTensor(y_test.values)"
   ]
  },
  {
   "cell_type": "code",
   "execution_count": 11,
   "id": "00c5a50a",
   "metadata": {},
   "outputs": [],
   "source": [
    "def mse(y_pred, y_true):\n",
    "    return torch.mean((y_pred - y_true) ** 2)"
   ]
  },
  {
   "cell_type": "code",
   "execution_count": 112,
   "id": "c0e2f51f",
   "metadata": {},
   "outputs": [
    {
     "name": "stdout",
     "output_type": "stream",
     "text": [
      "Iter 100, Loss: 607857213440.0000\n",
      "Iter 200, Loss: 10786610176.0000\n",
      "Iter 300, Loss: 196386368.0000\n",
      "Iter 400, Loss: 7070501.5000\n",
      "Iter 500, Loss: 3657253.5000\n",
      "Iter 600, Loss: 3595464.2500\n",
      "Iter 700, Loss: 3594323.7500\n",
      "Iter 800, Loss: 3594393.2500\n",
      "Iter 900, Loss: 3594400.5000\n",
      "Iter 1000, Loss: 3594410.7500\n"
     ]
    }
   ],
   "source": [
    "weights = torch.zeros(17, requires_grad=True)\n",
    "\n",
    "num_iter = 1000\n",
    "\n",
    "# Скорость обучения для параметров\n",
    "learning_rate = 0.01\n",
    "\n",
    "for i in range(num_iter):\n",
    "\n",
    "    # Forward pass: предсказание модели\n",
    "    y_pred_train = X_train_t @ weights\n",
    "\n",
    "    # Подсчет оптимизируемой функции (MSE)\n",
    "    loss = mse(y_pred_train, y_train_t)\n",
    "\n",
    "    # Обратный проход: подсчет градиентов\n",
    "    loss.backward()\n",
    "\n",
    "    # Оптимизация: обновение параметров\n",
    "    weights.data -= learning_rate * weights.grad.data\n",
    "\n",
    "    # Зануление градиентов\n",
    "    weights.grad.zero_()\n",
    "\n",
    "    if (i + 1) % 100 == 0:\n",
    "        print(f\"Iter {i+1}, Loss: {loss.item():.4f}\")"
   ]
  },
  {
   "cell_type": "code",
   "execution_count": 119,
   "id": "ad75e27a",
   "metadata": {},
   "outputs": [
    {
     "data": {
      "text/plain": [
       "0.9999995827674866"
      ]
     },
     "execution_count": 119,
     "metadata": {},
     "output_type": "execute_result"
    }
   ],
   "source": [
    "from sklearn.metrics import r2_score\n",
    "\n",
    "r2 = r2_score(y_train_t.numpy(), y_pred_train.detach().numpy())\n",
    "r2"
   ]
  },
  {
   "cell_type": "code",
   "execution_count": 116,
   "id": "72501b6e",
   "metadata": {},
   "outputs": [],
   "source": [
    "y_pred_test = X_test_t @ weights"
   ]
  },
  {
   "cell_type": "code",
   "execution_count": 118,
   "id": "d28809e0",
   "metadata": {},
   "outputs": [
    {
     "data": {
      "text/plain": [
       "0.9999995827674866"
      ]
     },
     "execution_count": 118,
     "metadata": {},
     "output_type": "execute_result"
    }
   ],
   "source": [
    "r2 = r2_score(y_test_t.numpy(), y_pred_test.detach().numpy())\n",
    "r2"
   ]
  }
 ],
 "metadata": {
  "kernelspec": {
   "display_name": "venv",
   "language": "python",
   "name": "python3"
  },
  "language_info": {
   "codemirror_mode": {
    "name": "ipython",
    "version": 3
   },
   "file_extension": ".py",
   "mimetype": "text/x-python",
   "name": "python",
   "nbconvert_exporter": "python",
   "pygments_lexer": "ipython3",
   "version": "3.13.9"
  }
 },
 "nbformat": 4,
 "nbformat_minor": 5
}
