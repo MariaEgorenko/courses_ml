{
 "cells": [
  {
   "cell_type": "code",
   "execution_count": 1,
   "id": "37183e16",
   "metadata": {},
   "outputs": [],
   "source": [
    "import numpy as np"
   ]
  },
  {
   "cell_type": "code",
   "execution_count": 2,
   "id": "0d8e05ed",
   "metadata": {},
   "outputs": [],
   "source": [
    "from PIL import Image\n",
    "\n",
    "img = Image.open('src/blue.jpg')\n",
    "pixels = list(img.getdata())\n",
    "width, height = img.size\n",
    "\n",
    "# Преобразуем в матрицу\n",
    "matrix = [[pixels[y * width + x] for x in range(width)] for y in range(height)]"
   ]
  },
  {
   "cell_type": "code",
   "execution_count": 3,
   "id": "1cd8717b",
   "metadata": {},
   "outputs": [],
   "source": [
    "def rgb_to_grayscale(matrix):\n",
    "    height = len(matrix)\n",
    "    width = len(matrix[0])\n",
    "    gray = [[0 for _ in range(width)] for _ in range(height)]\n",
    "\n",
    "    for y in range(height):\n",
    "        for x in range(width):\n",
    "            r, g, b = matrix[y][x]\n",
    "            gray[y][x] = int(0.299 * r + 0.587 * g + 0.114 * b)\n",
    "\n",
    "    return gray"
   ]
  },
  {
   "cell_type": "code",
   "execution_count": 4,
   "id": "8e25d49a",
   "metadata": {},
   "outputs": [],
   "source": [
    "def matrix_to_image(matrix):\n",
    "    height = len(matrix)\n",
    "    width = len(matrix[0])\n",
    "\n",
    "    # Преобразуем матрицу в плоский список пикселей\n",
    "    flat_pixels = [pixel for row in matrix for pixel in row]\n",
    "\n",
    "    # Создаём новое изображение\n",
    "    img = Image.new('RGB', (width, height))\n",
    "    img.putdata(flat_pixels)\n",
    "    \n",
    "    return img"
   ]
  },
  {
   "cell_type": "code",
   "execution_count": 5,
   "id": "feedefce",
   "metadata": {},
   "outputs": [],
   "source": [
    "gray_matrix = rgb_to_grayscale(matrix)"
   ]
  },
  {
   "cell_type": "code",
   "execution_count": 6,
   "id": "fc05082e",
   "metadata": {},
   "outputs": [],
   "source": [
    "def is_background(intensity):\n",
    "        background_threshold = 100\n",
    "        return intensity > background_threshold\n",
    "\n",
    "def find_most_different_object(gray_matrix):\n",
    "    \n",
    "    height = len(gray_matrix)\n",
    "    width = len(gray_matrix[0])\n",
    "\n",
    "    visited = [[False for _ in range(width)] for _ in range(height)]\n",
    "\n",
    "    objects = []\n",
    "\n",
    "    for y in range(height):\n",
    "        for x in range(width):\n",
    "            if visited[y][x] or is_background(gray_matrix[y][x]):\n",
    "                continue\n",
    "\n",
    "            object_pixels = []\n",
    "            stack = [(y, x)]\n",
    "            visited[y][x] = True\n",
    "\n",
    "            while stack:\n",
    "                curr_y, curr_x = stack.pop()\n",
    "                object_pixels.append((curr_y, curr_x))\n",
    "\n",
    "                for dy, dx in [(-1, 0), (1, 0), (0, -1), (0, 1)]:\n",
    "                    ny, nx = curr_y + dy, curr_x + dx\n",
    "                    if (0 <= ny < height and 0 <= nx < width and \n",
    "                        not visited[ny][nx] and not is_background(gray_matrix[ny][nx])):\n",
    "                        visited[ny][nx] = True\n",
    "                        stack.append((ny, nx))\n",
    "\n",
    "            y_coords = [p[0] for p in object_pixels]\n",
    "            x_coords = [p[1] for p in object_pixels]\n",
    "            y_min, y_max = min(y_coords), max(y_coords)\n",
    "            x_min, x_max = min(x_coords), max(x_coords)\n",
    "\n",
    "            total_intensity = sum(gray_matrix[py][px] for py, px in object_pixels)\n",
    "            avg_intensity = int(total_intensity / len(object_pixels))\n",
    "\n",
    "            objects.append({\n",
    "                'bbox': (x_min, y_min, x_max, y_max),\n",
    "                'pixels': object_pixels,\n",
    "                'avg_intensity': avg_intensity,\n",
    "                'area': len(object_pixels)\n",
    "            })\n",
    "\n",
    "    if not objects:\n",
    "        return None\n",
    "    \n",
    "    most_prominent = max(objects, key=lambda obj: obj['area'])\n",
    "\n",
    "    return most_prominent"
   ]
  },
  {
   "cell_type": "code",
   "execution_count": 7,
   "id": "95fb9df5",
   "metadata": {},
   "outputs": [
    {
     "name": "stdout",
     "output_type": "stream",
     "text": [
      "Границы объекта: (141, 31, 463, 431)\n",
      "Площадь: 91426 пикселей\n",
      "Средняя яркость: 61\n"
     ]
    }
   ],
   "source": [
    "result = find_most_different_object(gray_matrix)\n",
    "\n",
    "print(f\"Границы объекта: {result['bbox']}\")\n",
    "print(f\"Площадь: {result['area']} пикселей\")\n",
    "print(f\"Средняя яркость: {result['avg_intensity']}\")"
   ]
  },
  {
   "cell_type": "code",
   "execution_count": 8,
   "id": "0fcf3c55",
   "metadata": {},
   "outputs": [],
   "source": [
    "def create_object_only_image(original_matrix, object_info):\n",
    "    \n",
    "    height = len(original_matrix)\n",
    "    width = len(original_matrix[0])\n",
    "    \n",
    "    # Создаем новую матрицу, заполненную белым цветом\n",
    "    result_matrix = [[(255, 255, 255) for _ in range(width)] for _ in range(height)]\n",
    "    \n",
    "    # Копируем пиксели объекта из оригинальной матрицы\n",
    "    for y, x in object_info['pixels']:\n",
    "        result_matrix[y][x] = original_matrix[y][x]\n",
    "    \n",
    "    return result_matrix"
   ]
  },
  {
   "cell_type": "code",
   "execution_count": 9,
   "id": "b98ba84d",
   "metadata": {},
   "outputs": [],
   "source": [
    "result_matrix = create_object_only_image(matrix, result)"
   ]
  },
  {
   "cell_type": "code",
   "execution_count": 10,
   "id": "8e595065",
   "metadata": {},
   "outputs": [],
   "source": [
    "resul_img = matrix_to_image(result_matrix)"
   ]
  },
  {
   "cell_type": "code",
   "execution_count": 11,
   "id": "64664bba",
   "metadata": {},
   "outputs": [],
   "source": [
    "resul_img.show()"
   ]
  }
 ],
 "metadata": {
  "kernelspec": {
   "display_name": "venv",
   "language": "python",
   "name": "python3"
  },
  "language_info": {
   "codemirror_mode": {
    "name": "ipython",
    "version": 3
   },
   "file_extension": ".py",
   "mimetype": "text/x-python",
   "name": "python",
   "nbconvert_exporter": "python",
   "pygments_lexer": "ipython3",
   "version": "3.13.7"
  }
 },
 "nbformat": 4,
 "nbformat_minor": 5
}
