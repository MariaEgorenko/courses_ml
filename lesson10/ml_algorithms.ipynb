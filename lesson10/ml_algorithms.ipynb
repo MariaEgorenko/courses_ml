{
 "cells": [
  {
   "cell_type": "code",
   "execution_count": 1,
   "id": "c9c97636",
   "metadata": {},
   "outputs": [],
   "source": [
    "import numpy as np\n",
    "import pandas as pd\n",
    "import matplotlib.pyplot as plt \n",
    "\n",
    "from sklearn.preprocessing import StandardScaler, RobustScaler\n",
    "from sklearn.model_selection import train_test_split\n",
    "from sklearn.linear_model import LinearRegression, LogisticRegression\n",
    "from sklearn.svm import SVR\n",
    "from sklearn.tree import DecisionTreeRegressor\n",
    "from sklearn.ensemble import RandomForestRegressor, GradientBoostingRegressor\n",
    "from sklearn.metrics import mean_absolute_error, mean_squared_error, r2_score\n",
    "from xgboost import XGBRegressor\n",
    "from catboost import CatBoostRegressor\n",
    "from lightgbm import LGBMRegressor"
   ]
  },
  {
   "cell_type": "code",
   "execution_count": 2,
   "id": "1d58616b",
   "metadata": {},
   "outputs": [],
   "source": [
    "df = pd.read_csv('src/insurance.csv')"
   ]
  },
  {
   "cell_type": "code",
   "execution_count": 4,
   "id": "0345ee07",
   "metadata": {},
   "outputs": [],
   "source": [
    "df = df.replace({\n",
    "    'sex': {'male': 0, 'female': 1},\n",
    "    'smoker': {'no': 0, 'yes': 1}\n",
    "})"
   ]
  },
  {
   "cell_type": "code",
   "execution_count": 5,
   "id": "5bc7563e",
   "metadata": {},
   "outputs": [],
   "source": [
    "X = df.drop('charges', axis=1)\n",
    "y = df['charges']\n",
    "y_log = np.log(y)"
   ]
  },
  {
   "cell_type": "code",
   "execution_count": 6,
   "id": "38c49315",
   "metadata": {},
   "outputs": [],
   "source": [
    "# Преобразование столбца регион в one-hot\n",
    "X = pd.get_dummies(X, columns=['region'], drop_first=True, dtype='int')"
   ]
  },
  {
   "cell_type": "code",
   "execution_count": 7,
   "id": "ae81a21e",
   "metadata": {},
   "outputs": [],
   "source": [
    "scaler = StandardScaler()\n",
    "numeric_cols = ['age', 'bmi', 'children']\n",
    "X[numeric_cols] = scaler.fit_transform(X[numeric_cols])"
   ]
  },
  {
   "cell_type": "code",
   "execution_count": 8,
   "id": "ca2eeff0",
   "metadata": {},
   "outputs": [],
   "source": [
    "X_train, X_test, y_train_log, y_test_log = train_test_split(X, y_log, test_size=0.2, random_state=42)"
   ]
  },
  {
   "cell_type": "code",
   "execution_count": 9,
   "id": "ff629a3c",
   "metadata": {},
   "outputs": [],
   "source": [
    "def print_metrics(y_true: np.ndarray, y_pred: np.ndarray) -> tuple:\n",
    "    \"\"\"\n",
    "    Функция для расчета и вывода метрик\n",
    "    \"\"\"\n",
    "    mse = mean_squared_error(y_true, y_pred)\n",
    "    rmse = np.sqrt(mse)\n",
    "    mae = mean_absolute_error(y_true, y_pred)\n",
    "    r2 = r2_score(y_true, y_pred)\n",
    "    print('Метрики:')\n",
    "    print(f'mse = {mse:.5f}')\n",
    "    print(f'rmse = {rmse:.5f}')\n",
    "    print(f'mae = {mae:.5f}')\n",
    "    print(f'r2 = {r2:.5f}')\n",
    "\n",
    "    return mse, rmse, mae, r2"
   ]
  },
  {
   "cell_type": "markdown",
   "id": "83b7bcb0",
   "metadata": {},
   "source": [
    "### Линейная регрессия"
   ]
  },
  {
   "cell_type": "code",
   "execution_count": 10,
   "id": "ad6341a3",
   "metadata": {},
   "outputs": [],
   "source": [
    "model_lr = LinearRegression()\n",
    "\n",
    "model_lr.fit(X_train, y_train_log)\n",
    "y_pred_lr_log = model_lr.predict(X_test)"
   ]
  },
  {
   "cell_type": "code",
   "execution_count": 11,
   "id": "016b8a4d",
   "metadata": {},
   "outputs": [
    {
     "name": "stdout",
     "output_type": "stream",
     "text": [
      "Метрики:\n",
      "mse = 0.17557\n",
      "rmse = 0.41902\n",
      "mae = 0.26969\n",
      "r2 = 0.80473\n"
     ]
    }
   ],
   "source": [
    "mse_lr, rmse_lr, mae_lr, r2_lr = print_metrics(y_test_log, y_pred_lr_log)"
   ]
  },
  {
   "cell_type": "markdown",
   "id": "94adf8d5",
   "metadata": {},
   "source": [
    "### Метод опорных векторов"
   ]
  },
  {
   "cell_type": "code",
   "execution_count": 12,
   "id": "f1989bf2",
   "metadata": {},
   "outputs": [],
   "source": [
    "model_svr = SVR(kernel='poly')\n",
    "\n",
    "model_svr.fit(X_train, y_train_log)\n",
    "y_pred_svr_log = model_svr.predict(X_test)"
   ]
  },
  {
   "cell_type": "code",
   "execution_count": 13,
   "id": "97df2aa5",
   "metadata": {},
   "outputs": [
    {
     "name": "stdout",
     "output_type": "stream",
     "text": [
      "Метрики:\n",
      "mse = 0.16254\n",
      "rmse = 0.40317\n",
      "mae = 0.22329\n",
      "r2 = 0.81922\n"
     ]
    }
   ],
   "source": [
    "mse_svr, rmse_svr, mae_svr, r2_svr = print_metrics(y_test_log, y_pred_svr_log)"
   ]
  },
  {
   "cell_type": "markdown",
   "id": "25947e03",
   "metadata": {},
   "source": [
    "### Дерево решений"
   ]
  },
  {
   "cell_type": "code",
   "execution_count": 14,
   "id": "25453d50",
   "metadata": {},
   "outputs": [],
   "source": [
    "model_dt = DecisionTreeRegressor(random_state=42)\n",
    "\n",
    "model_dt.fit(X_train, y_train_log)\n",
    "y_pred_dt_log = model_dt.predict(X_test)"
   ]
  },
  {
   "cell_type": "code",
   "execution_count": 15,
   "id": "0bb5cbc7",
   "metadata": {},
   "outputs": [
    {
     "name": "stdout",
     "output_type": "stream",
     "text": [
      "Метрики:\n",
      "mse = 0.20166\n",
      "rmse = 0.44906\n",
      "mae = 0.20106\n",
      "r2 = 0.77572\n"
     ]
    }
   ],
   "source": [
    "mse_dt, rmse_dt, mae_dt, r2_dt = print_metrics(y_test_log, y_pred_dt_log)"
   ]
  },
  {
   "cell_type": "markdown",
   "id": "10159c57",
   "metadata": {},
   "source": [
    "#### Подбор гиперпараметров"
   ]
  },
  {
   "cell_type": "code",
   "execution_count": 17,
   "id": "cd9c0d62",
   "metadata": {},
   "outputs": [],
   "source": [
    "from hyperopt import fmin, tpe, hp, STATUS_OK, Trials\n",
    "from sklearn.model_selection import cross_val_score"
   ]
  },
  {
   "cell_type": "code",
   "execution_count": 28,
   "id": "3c27af35",
   "metadata": {},
   "outputs": [
    {
     "name": "stdout",
     "output_type": "stream",
     "text": [
      "100%|██████████| 100/100 [00:03<00:00, 33.15trial/s, best loss: -0.8152198666975679]\n",
      "Лучшие параметры\n"
     ]
    },
    {
     "data": {
      "text/plain": [
       "{'criterion': np.int64(1),\n",
       " 'max_depth': np.int64(43),\n",
       " 'max_features': np.int64(2),\n",
       " 'min_samples_leaf': np.int64(7),\n",
       " 'min_samples_split': np.int64(8)}"
      ]
     },
     "execution_count": 28,
     "metadata": {},
     "output_type": "execute_result"
    }
   ],
   "source": [
    "# Определение пространства поиска гиперпараметров\n",
    "space_hyperopt = {\n",
    "    'max_depth': hp.choice('max_depth', range(1, 50)),\n",
    "    'min_samples_split': hp.choice('min_samples_split', range(2, 20)),\n",
    "    'min_samples_leaf': hp.choice('min_samples_leaf', range(1, 10)),\n",
    "    'criterion': hp.choice('criterion', ['squared_error', 'absolute_error']),\n",
    "    'max_features': hp.choice('max_features', ['sqrt', 'log2', None])\n",
    "}\n",
    "\n",
    "# Функиция для оптимизации\n",
    "def objective(params: dict) -> dict:\n",
    "    tree = DecisionTreeRegressor(\n",
    "        max_depth=params['max_depth'],\n",
    "        min_samples_split=params['min_samples_split'],\n",
    "        min_samples_leaf=params['min_samples_leaf'],\n",
    "        criterion=params['criterion'],\n",
    "        max_features=params['max_features'],\n",
    "        random_state=42\n",
    "    )\n",
    "\n",
    "    # Кросс-валидация\n",
    "    score = cross_val_score(tree, X_train, y_train_log, cv=5, scoring='r2', n_jobs=-1).mean()\n",
    "\n",
    "    # Возврат минус точность, т.к. hyperopt минимизирует функцию\n",
    "    return {'loss': -score, 'status': STATUS_OK}\n",
    "\n",
    "trials = Trials()\n",
    "best = fmin(fn=objective, space=space_hyperopt, algo=tpe.suggest,\n",
    "            max_evals=100, trials=trials)\n",
    "\n",
    "print('Лучшие параметры')\n",
    "best"
   ]
  },
  {
   "cell_type": "code",
   "execution_count": 29,
   "id": "340dee69",
   "metadata": {},
   "outputs": [],
   "source": [
    "model_dt_best = DecisionTreeRegressor(\n",
    "    criterion='squared_error',\n",
    "    max_depth=43,\n",
    "    max_features='log2',\n",
    "    min_samples_leaf=7,\n",
    "    min_samples_split=8\n",
    ")\n",
    "\n",
    "model_dt_best.fit(X_train, y_train_log)\n",
    "y_pred_dt_best_log = model_dt_best.predict(X_test)"
   ]
  },
  {
   "cell_type": "code",
   "execution_count": 30,
   "id": "a6055119",
   "metadata": {},
   "outputs": [
    {
     "name": "stdout",
     "output_type": "stream",
     "text": [
      "Метрики:\n",
      "mse = 0.15738\n",
      "rmse = 0.39671\n",
      "mae = 0.25653\n",
      "r2 = 0.82497\n"
     ]
    }
   ],
   "source": [
    "mse_dt_b, rmse_dt_b, mae_dt_b, r2_dt_b = print_metrics(y_test_log, y_pred_dt_best_log)"
   ]
  },
  {
   "cell_type": "markdown",
   "id": "e4c3d096",
   "metadata": {},
   "source": [
    "### Random Forest"
   ]
  },
  {
   "cell_type": "code",
   "execution_count": 31,
   "id": "75871de7",
   "metadata": {},
   "outputs": [],
   "source": [
    "model_rf = RandomForestRegressor(random_state=42)\n",
    "\n",
    "model_rf.fit(X_train, y_train_log)\n",
    "y_pred_rf_log = model_rf.predict(X_test)"
   ]
  },
  {
   "cell_type": "code",
   "execution_count": 32,
   "id": "fc58e086",
   "metadata": {},
   "outputs": [
    {
     "name": "stdout",
     "output_type": "stream",
     "text": [
      "Метрики:\n",
      "mse = 0.13683\n",
      "rmse = 0.36990\n",
      "mae = 0.19316\n",
      "r2 = 0.84782\n"
     ]
    }
   ],
   "source": [
    "mse_rf, rmse_rf, mae_rf, r2_rf = print_metrics(y_test_log, y_pred_rf_log)"
   ]
  },
  {
   "cell_type": "markdown",
   "id": "f37b2d94",
   "metadata": {},
   "source": [
    "### Gradient Boosting"
   ]
  },
  {
   "cell_type": "code",
   "execution_count": 33,
   "id": "506427c8",
   "metadata": {},
   "outputs": [],
   "source": [
    "model_gb = GradientBoostingRegressor()\n",
    "\n",
    "model_gb.fit(X_train, y_train_log)\n",
    "y_pred_gb_log = model_gb.predict(X_test)"
   ]
  },
  {
   "cell_type": "code",
   "execution_count": 34,
   "id": "746f157b",
   "metadata": {},
   "outputs": [
    {
     "name": "stdout",
     "output_type": "stream",
     "text": [
      "Метрики:\n",
      "mse = 0.12078\n",
      "rmse = 0.34753\n",
      "mae = 0.18512\n",
      "r2 = 0.86567\n"
     ]
    }
   ],
   "source": [
    "mse_gb, rmse_gb, mae_gb, r2_gb = print_metrics(y_test_log, y_pred_gb_log)"
   ]
  },
  {
   "cell_type": "markdown",
   "id": "d1a244d5",
   "metadata": {},
   "source": [
    "### Extreme Gradient Boosting"
   ]
  },
  {
   "cell_type": "code",
   "execution_count": 35,
   "id": "10ec077c",
   "metadata": {},
   "outputs": [],
   "source": [
    "model_xgb = XGBRegressor()\n",
    "\n",
    "model_xgb.fit(X_train, y_train_log)\n",
    "y_pred_xgb_log = model_xgb.predict(X_test)"
   ]
  },
  {
   "cell_type": "code",
   "execution_count": 36,
   "id": "98b21951",
   "metadata": {},
   "outputs": [
    {
     "name": "stdout",
     "output_type": "stream",
     "text": [
      "Метрики:\n",
      "mse = 0.15427\n",
      "rmse = 0.39277\n",
      "mae = 0.21185\n",
      "r2 = 0.82843\n"
     ]
    }
   ],
   "source": [
    "mse_xgb, rmse_xgb, mae_xgb, r2_xgb = print_metrics(y_test_log, y_pred_xgb_log)"
   ]
  },
  {
   "cell_type": "markdown",
   "id": "efb6bd2a",
   "metadata": {},
   "source": [
    "### CatBoost"
   ]
  },
  {
   "cell_type": "code",
   "execution_count": 37,
   "id": "c2d4989b",
   "metadata": {},
   "outputs": [],
   "source": [
    "model_cat = CatBoostRegressor(verbose=0)\n",
    "\n",
    "model_cat.fit(X_train, y_train_log)\n",
    "y_pred_cat_log = model_cat.predict(X_test)"
   ]
  },
  {
   "cell_type": "code",
   "execution_count": 38,
   "id": "2147b489",
   "metadata": {},
   "outputs": [
    {
     "name": "stdout",
     "output_type": "stream",
     "text": [
      "Метрики:\n",
      "mse = 0.13014\n",
      "rmse = 0.36075\n",
      "mae = 0.19096\n",
      "r2 = 0.85526\n"
     ]
    }
   ],
   "source": [
    "mse_cat, rmse_cat, mae_cat, r2_cat = print_metrics(y_test_log, y_pred_cat_log)"
   ]
  },
  {
   "cell_type": "markdown",
   "id": "cf32ec70",
   "metadata": {},
   "source": [
    "### LightGBM "
   ]
  },
  {
   "cell_type": "code",
   "execution_count": 39,
   "id": "245a0c7c",
   "metadata": {},
   "outputs": [
    {
     "name": "stdout",
     "output_type": "stream",
     "text": [
      "[LightGBM] [Info] Auto-choosing row-wise multi-threading, the overhead of testing was 0.000061 seconds.\n",
      "You can set `force_row_wise=true` to remove the overhead.\n",
      "And if memory is not enough, you can set `force_col_wise=true`.\n",
      "[LightGBM] [Info] Total Bins 320\n",
      "[LightGBM] [Info] Number of data points in the train set: 1070, number of used features: 8\n",
      "[LightGBM] [Info] Start training from score 9.113322\n"
     ]
    }
   ],
   "source": [
    "model_lgb = LGBMRegressor()\n",
    "\n",
    "model_lgb.fit(X_train, y_train_log)\n",
    "y_pred_lgb_log = model_lgb.predict(X_test)"
   ]
  },
  {
   "cell_type": "code",
   "execution_count": 40,
   "id": "79774192",
   "metadata": {},
   "outputs": [
    {
     "name": "stdout",
     "output_type": "stream",
     "text": [
      "Метрики:\n",
      "mse = 0.14195\n",
      "rmse = 0.37676\n",
      "mae = 0.20778\n",
      "r2 = 0.84213\n"
     ]
    }
   ],
   "source": [
    "mse_lgb, rmse_lgb, mae_lgb, r2_lgb = print_metrics(y_test_log, y_pred_lgb_log)"
   ]
  },
  {
   "cell_type": "markdown",
   "id": "604a7af2",
   "metadata": {},
   "source": [
    "### Таблица сравнений"
   ]
  },
  {
   "cell_type": "code",
   "execution_count": 41,
   "id": "4825091f",
   "metadata": {},
   "outputs": [],
   "source": [
    "ct = pd.DataFrame({\n",
    "    'Algo': [\n",
    "        'LinearRegression',\n",
    "        'SVR',\n",
    "        'DecisionTree',\n",
    "        'DecisionTree_best',\n",
    "        'RandomForest',\n",
    "        'XGB',\n",
    "        'CatBoost',\n",
    "        'LightGBM'\n",
    "    ],\n",
    "    'MSE': [\n",
    "        mse_lr, mse_svr, mse_dt, mse_dt_b,\n",
    "        mse_rf, mse_xgb, mse_cat, mse_lgb\n",
    "    ],\n",
    "    'RMSE': [\n",
    "        rmse_lr, rmse_svr, rmse_dt, rmse_dt_b,\n",
    "        rmse_rf, rmse_xgb, rmse_cat, rmse_lgb\n",
    "    ],\n",
    "    'MAE': [\n",
    "        mae_lr, mae_svr, mae_dt, mae_dt_b,\n",
    "        mae_rf, mae_xgb, mae_cat, mae_lgb\n",
    "    ],\n",
    "    'R2': [\n",
    "        r2_lr, r2_svr, r2_dt, r2_dt_b,\n",
    "        r2_rf, r2_xgb, r2_cat, r2_lgb\n",
    "    ]\n",
    "})"
   ]
  },
  {
   "cell_type": "code",
   "execution_count": 42,
   "id": "1d37ed58",
   "metadata": {},
   "outputs": [
    {
     "data": {
      "text/html": [
       "<div>\n",
       "<style scoped>\n",
       "    .dataframe tbody tr th:only-of-type {\n",
       "        vertical-align: middle;\n",
       "    }\n",
       "\n",
       "    .dataframe tbody tr th {\n",
       "        vertical-align: top;\n",
       "    }\n",
       "\n",
       "    .dataframe thead th {\n",
       "        text-align: right;\n",
       "    }\n",
       "</style>\n",
       "<table border=\"1\" class=\"dataframe\">\n",
       "  <thead>\n",
       "    <tr style=\"text-align: right;\">\n",
       "      <th></th>\n",
       "      <th>Algo</th>\n",
       "      <th>MSE</th>\n",
       "      <th>RMSE</th>\n",
       "      <th>MAE</th>\n",
       "      <th>R2</th>\n",
       "    </tr>\n",
       "  </thead>\n",
       "  <tbody>\n",
       "    <tr>\n",
       "      <th>6</th>\n",
       "      <td>CatBoost</td>\n",
       "      <td>0.130140</td>\n",
       "      <td>0.360749</td>\n",
       "      <td>0.190960</td>\n",
       "      <td>0.855262</td>\n",
       "    </tr>\n",
       "    <tr>\n",
       "      <th>4</th>\n",
       "      <td>RandomForest</td>\n",
       "      <td>0.136827</td>\n",
       "      <td>0.369901</td>\n",
       "      <td>0.193164</td>\n",
       "      <td>0.847825</td>\n",
       "    </tr>\n",
       "    <tr>\n",
       "      <th>7</th>\n",
       "      <td>LightGBM</td>\n",
       "      <td>0.141948</td>\n",
       "      <td>0.376760</td>\n",
       "      <td>0.207783</td>\n",
       "      <td>0.842129</td>\n",
       "    </tr>\n",
       "    <tr>\n",
       "      <th>5</th>\n",
       "      <td>XGB</td>\n",
       "      <td>0.154266</td>\n",
       "      <td>0.392767</td>\n",
       "      <td>0.211845</td>\n",
       "      <td>0.828430</td>\n",
       "    </tr>\n",
       "    <tr>\n",
       "      <th>3</th>\n",
       "      <td>DecisionTree_best</td>\n",
       "      <td>0.157379</td>\n",
       "      <td>0.396710</td>\n",
       "      <td>0.256530</td>\n",
       "      <td>0.824967</td>\n",
       "    </tr>\n",
       "    <tr>\n",
       "      <th>1</th>\n",
       "      <td>SVR</td>\n",
       "      <td>0.162543</td>\n",
       "      <td>0.403166</td>\n",
       "      <td>0.223289</td>\n",
       "      <td>0.819225</td>\n",
       "    </tr>\n",
       "    <tr>\n",
       "      <th>0</th>\n",
       "      <td>LinearRegression</td>\n",
       "      <td>0.175574</td>\n",
       "      <td>0.419016</td>\n",
       "      <td>0.269692</td>\n",
       "      <td>0.804731</td>\n",
       "    </tr>\n",
       "    <tr>\n",
       "      <th>2</th>\n",
       "      <td>DecisionTree</td>\n",
       "      <td>0.201658</td>\n",
       "      <td>0.449064</td>\n",
       "      <td>0.201058</td>\n",
       "      <td>0.775721</td>\n",
       "    </tr>\n",
       "  </tbody>\n",
       "</table>\n",
       "</div>"
      ],
      "text/plain": [
       "                Algo       MSE      RMSE       MAE        R2\n",
       "6           CatBoost  0.130140  0.360749  0.190960  0.855262\n",
       "4       RandomForest  0.136827  0.369901  0.193164  0.847825\n",
       "7           LightGBM  0.141948  0.376760  0.207783  0.842129\n",
       "5                XGB  0.154266  0.392767  0.211845  0.828430\n",
       "3  DecisionTree_best  0.157379  0.396710  0.256530  0.824967\n",
       "1                SVR  0.162543  0.403166  0.223289  0.819225\n",
       "0   LinearRegression  0.175574  0.419016  0.269692  0.804731\n",
       "2       DecisionTree  0.201658  0.449064  0.201058  0.775721"
      ]
     },
     "execution_count": 42,
     "metadata": {},
     "output_type": "execute_result"
    }
   ],
   "source": [
    "ct.sort_values(by='MSE')"
   ]
  }
 ],
 "metadata": {
  "kernelspec": {
   "display_name": "venv",
   "language": "python",
   "name": "python3"
  },
  "language_info": {
   "codemirror_mode": {
    "name": "ipython",
    "version": 3
   },
   "file_extension": ".py",
   "mimetype": "text/x-python",
   "name": "python",
   "nbconvert_exporter": "python",
   "pygments_lexer": "ipython3",
   "version": "3.13.7"
  }
 },
 "nbformat": 4,
 "nbformat_minor": 5
}
